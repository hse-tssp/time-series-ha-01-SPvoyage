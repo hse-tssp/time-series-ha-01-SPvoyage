{
  "nbformat": 4,
  "nbformat_minor": 0,
  "metadata": {
    "kernelspec": {
      "display_name": "Python 3",
      "language": "python",
      "name": "python3"
    },
    "language_info": {
      "codemirror_mode": {
        "name": "ipython",
        "version": 3
      },
      "file_extension": ".py",
      "mimetype": "text/x-python",
      "name": "python",
      "nbconvert_exporter": "python",
      "pygments_lexer": "ipython3",
      "version": "3.7.0"
    },
    "colab": {
      "name": "BI_TSA_HA_1_Petrov_Stepan.ipynb",
      "provenance": []
    }
  },
  "cells": [
    {
      "cell_type": "markdown",
      "metadata": {
        "id": "d7Ag0X9UG09f"
      },
      "source": [
        "## Time Series Analysis: Home Assignment 1"
      ]
    },
    {
      "cell_type": "markdown",
      "metadata": {
        "id": "u49MvDanG09m"
      },
      "source": [
        "due to **11.02.21 23:00**\n",
        "\n",
        "You need to upload HA1 to github repository,  the link will be provided later."
      ]
    },
    {
      "cell_type": "markdown",
      "metadata": {
        "id": "9yJMVdLEG09n"
      },
      "source": [
        "Enter your name below: "
      ]
    },
    {
      "cell_type": "code",
      "metadata": {
        "id": "UZUqZtxfG09n"
      },
      "source": [
        "name='Petrov Stepan' "
      ],
      "execution_count": null,
      "outputs": []
    },
    {
      "cell_type": "markdown",
      "metadata": {
        "id": "WzzAeQ8hG09o"
      },
      "source": [
        "### Contents"
      ]
    },
    {
      "cell_type": "markdown",
      "metadata": {
        "id": "3yKWHpOxG09o"
      },
      "source": [
        "1. **Data preparation (7 points)**\n",
        "\n",
        "    $1.0$ Download data and import functions\n",
        "    \n",
        "    $1.1$ Read data (1 pt.)\n",
        "    \n",
        "    $1.2$ Check NAs (1 pt.)\n",
        "    \n",
        "    $1.3$ Transform dates (2 pt.)\n",
        "    \n",
        "    $1.4$. Make some plots (0.75 pt.)\n",
        "    \n",
        "    $1.5$ Split the data (0.75 pt.)\n",
        "    \n",
        " \n",
        "2. **ETS (7 points)**\n",
        "\n",
        "    $2.1$ Estimate ETS (1 pt.)\n",
        "    \n",
        "    $2.2$ Point forecasts (1 pt.)\n",
        "    \n",
        "    $2.3$ Interval forecasts 1 (1 pt.)\n",
        "    \n",
        "    $2.4$ Interval forecasts 2 (1 pt.)\n",
        "    \n",
        "    $2.5$ Forecast quality metrics (2 pt.)\n",
        "    \n",
        "    $2.6$ Model comparison (1 pt.)\n",
        "    "
      ]
    },
    {
      "cell_type": "markdown",
      "metadata": {
        "id": "EPg-9eCJG09o"
      },
      "source": [
        "## 1. Data preparation (7 pt.)"
      ]
    },
    {
      "cell_type": "markdown",
      "metadata": {
        "id": "QVCM75fCG09p"
      },
      "source": [
        "### 1.0 Download data and import functions\n",
        "[back to contents](#Contents)"
      ]
    },
    {
      "cell_type": "markdown",
      "metadata": {
        "id": "0yxGfoksG09p"
      },
      "source": [
        "You have to download [BI_TSA_HA_1_data.csv](https://github.com/bdemeshev/ts603/blob/master/2021-spring/BI_TSA_HA_1_data.csv), which represents quarterly sales of Walmart from 1984 to 2020. The sourse of the data is [ycharts.com](https://ycharts.com/companies/WMT/revenues). "
      ]
    },
    {
      "cell_type": "code",
      "metadata": {
        "id": "nMFf6XHHG09p"
      },
      "source": [
        "import pandas as pd\n",
        "import numpy as np\n",
        "from sktime.utils.plotting import plot_series\n",
        "from sktime.forecasting.model_selection import temporal_train_test_split\n",
        "from statsmodels.tsa.exponential_smoothing.ets import ETSModel\n",
        "from sklearn.metrics import  mean_absolute_error, mean_squared_error"
      ],
      "execution_count": 4,
      "outputs": []
    },
    {
      "cell_type": "markdown",
      "metadata": {
        "id": "R5gxnDP0G09q"
      },
      "source": [
        "### 1.1 Read data (1 pt.)\n",
        "[back to contents](#Contents)"
      ]
    },
    {
      "cell_type": "markdown",
      "metadata": {
        "id": "-0Fcfgv0G09q"
      },
      "source": [
        "Read the downloaded data from your local computer and name it ``` df ```\n",
        "\n",
        "Alternatively, you can skip 1.0 and access data directly putting ```'https://raw.github.com/bdemeshev/ts603/master/2021-spring/BI_TSA_HA_1_data.csv'``` inside ```read_csv```\n",
        "\n",
        "use ``` pd.read_csv('... .csv') ```"
      ]
    },
    {
      "cell_type": "code",
      "metadata": {
        "colab": {
          "base_uri": "https://localhost:8080/",
          "height": 204
        },
        "id": "PHhC04N8G09q",
        "outputId": "b38f0cd0-8a6a-4a3b-e124-d83cd039c401"
      },
      "source": [
        "#code here (1 pt.)\n",
        "df=pd.read_csv('https://raw.github.com/bdemeshev/ts603/master/2021-spring/BI_TSA_HA_1_data.csv')\n",
        "df.head()"
      ],
      "execution_count": 10,
      "outputs": [
        {
          "output_type": "execute_result",
          "data": {
            "text/html": [
              "<div>\n",
              "<style scoped>\n",
              "    .dataframe tbody tr th:only-of-type {\n",
              "        vertical-align: middle;\n",
              "    }\n",
              "\n",
              "    .dataframe tbody tr th {\n",
              "        vertical-align: top;\n",
              "    }\n",
              "\n",
              "    .dataframe thead th {\n",
              "        text-align: right;\n",
              "    }\n",
              "</style>\n",
              "<table border=\"1\" class=\"dataframe\">\n",
              "  <thead>\n",
              "    <tr style=\"text-align: right;\">\n",
              "      <th></th>\n",
              "      <th>sales</th>\n",
              "      <th>month</th>\n",
              "      <th>day</th>\n",
              "      <th>year</th>\n",
              "    </tr>\n",
              "  </thead>\n",
              "  <tbody>\n",
              "    <tr>\n",
              "      <th>0</th>\n",
              "      <td>134.71</td>\n",
              "      <td>10</td>\n",
              "      <td>31</td>\n",
              "      <td>2020</td>\n",
              "    </tr>\n",
              "    <tr>\n",
              "      <th>1</th>\n",
              "      <td>137.74</td>\n",
              "      <td>7</td>\n",
              "      <td>31</td>\n",
              "      <td>2020</td>\n",
              "    </tr>\n",
              "    <tr>\n",
              "      <th>2</th>\n",
              "      <td>134.62</td>\n",
              "      <td>4</td>\n",
              "      <td>30</td>\n",
              "      <td>2020</td>\n",
              "    </tr>\n",
              "    <tr>\n",
              "      <th>3</th>\n",
              "      <td>141.67</td>\n",
              "      <td>1</td>\n",
              "      <td>31</td>\n",
              "      <td>2020</td>\n",
              "    </tr>\n",
              "    <tr>\n",
              "      <th>4</th>\n",
              "      <td>127.99</td>\n",
              "      <td>10</td>\n",
              "      <td>31</td>\n",
              "      <td>2019</td>\n",
              "    </tr>\n",
              "  </tbody>\n",
              "</table>\n",
              "</div>"
            ],
            "text/plain": [
              "    sales  month  day  year\n",
              "0  134.71     10   31  2020\n",
              "1  137.74      7   31  2020\n",
              "2  134.62      4   30  2020\n",
              "3  141.67      1   31  2020\n",
              "4  127.99     10   31  2019"
            ]
          },
          "metadata": {
            "tags": []
          },
          "execution_count": 10
        }
      ]
    },
    {
      "cell_type": "markdown",
      "metadata": {
        "id": "iy1BG4MvG09q"
      },
      "source": [
        "### 1.2 Check NAs (1 pt.)\n",
        "[back to contents](#Contents)"
      ]
    },
    {
      "cell_type": "markdown",
      "metadata": {
        "id": "5_r1e1EbG09r"
      },
      "source": [
        "Check whether ``` df ``` contains missing values(NAs):\n",
        "\n",
        "apply ``` isna().value_counts() ``` to ``` df ```"
      ]
    },
    {
      "cell_type": "code",
      "metadata": {
        "colab": {
          "base_uri": "https://localhost:8080/"
        },
        "id": "QSFjcx86G09r",
        "outputId": "b47599b1-95b2-43a0-d4ce-a4174a9e2016"
      },
      "source": [
        "# code here (0.5 pt.)\n",
        "df.isna().value_counts()"
      ],
      "execution_count": 6,
      "outputs": [
        {
          "output_type": "execute_result",
          "data": {
            "text/plain": [
              "sales  month  day    year \n",
              "False  False  False  False    147\n",
              "dtype: int64"
            ]
          },
          "metadata": {
            "tags": []
          },
          "execution_count": 6
        }
      ]
    },
    {
      "cell_type": "markdown",
      "metadata": {
        "id": "e6PpkPI-G09r"
      },
      "source": [
        "How many missing values are there in ``` df ```?"
      ]
    },
    {
      "cell_type": "code",
      "metadata": {
        "colab": {
          "base_uri": "https://localhost:8080/"
        },
        "id": "LaZQ6jkxG09r",
        "outputId": "493a3994-40f0-4758-da1a-c53cd6966b2e"
      },
      "source": [
        "# answer (0.5 pt.)\n",
        "df.isnull().sum(axis = 0)\n",
        "# so the answer is 0"
      ],
      "execution_count": 11,
      "outputs": [
        {
          "output_type": "execute_result",
          "data": {
            "text/plain": [
              "sales    0\n",
              "month    0\n",
              "day      0\n",
              "year     0\n",
              "dtype: int64"
            ]
          },
          "metadata": {
            "tags": []
          },
          "execution_count": 11
        }
      ]
    },
    {
      "cell_type": "markdown",
      "metadata": {
        "id": "vt3Jq5VMG09r"
      },
      "source": [
        "### 1.3 Dates transformation (2 pt.)\n",
        "[back to contents](#Contents)"
      ]
    },
    {
      "cell_type": "markdown",
      "metadata": {
        "id": "ZDux85PTG09s"
      },
      "source": [
        "How are dates represented in the original dataset? "
      ]
    },
    {
      "cell_type": "code",
      "metadata": {
        "colab": {
          "base_uri": "https://localhost:8080/",
          "height": 36
        },
        "id": "IbMxyb8GG09s",
        "outputId": "e8dbc64e-ce92-4503-aade-b8a268ec13c0"
      },
      "source": [
        "# answer (0.5 pt.)\n",
        "''' There are different columns for month, day and year '''"
      ],
      "execution_count": 14,
      "outputs": [
        {
          "output_type": "execute_result",
          "data": {
            "application/vnd.google.colaboratory.intrinsic+json": {
              "type": "string"
            },
            "text/plain": [
              "' There are different columns for month, day and year '"
            ]
          },
          "metadata": {
            "tags": []
          },
          "execution_count": 14
        }
      ]
    },
    {
      "cell_type": "markdown",
      "metadata": {
        "id": "02ffVpAWG09s"
      },
      "source": [
        "Transform dates to datetime format:\n",
        "\n",
        "``` df['date']=df['...']*10000+df['...']*100+df['...']*1 ```\n",
        "\n",
        "``` df['date']=pd.to_datetime(df['date'], format='%Y%m%d') ```\n",
        "\n",
        "change each ``` df['...'] ``` to one of ``` df['month'] ```, ``` df['year'] ```, ``` df['day'] ```according to ``` format='%Y%m%d'```"
      ]
    },
    {
      "cell_type": "code",
      "metadata": {
        "colab": {
          "base_uri": "https://localhost:8080/"
        },
        "id": "I54rVHuEG09s",
        "outputId": "d9d34925-983d-418d-80c9-8fc8e44acfb2"
      },
      "source": [
        "# code here (0.5 pt.)\n",
        "df['date']=df['year']*10000+df['month']*100+df['day']*1\n",
        "df['date']=pd.to_datetime(df['date'], format='%Y%m%d')\n",
        "df['date'].head()"
      ],
      "execution_count": 15,
      "outputs": [
        {
          "output_type": "execute_result",
          "data": {
            "text/plain": [
              "0   2020-10-31\n",
              "1   2020-07-31\n",
              "2   2020-04-30\n",
              "3   2020-01-31\n",
              "4   2019-10-31\n",
              "Name: date, dtype: datetime64[ns]"
            ]
          },
          "metadata": {
            "tags": []
          },
          "execution_count": 15
        }
      ]
    },
    {
      "cell_type": "markdown",
      "metadata": {
        "id": "szlJczsQG09s"
      },
      "source": [
        "Change index to dates:\n",
        "\n",
        "``` df.index=.... ```"
      ]
    },
    {
      "cell_type": "code",
      "metadata": {
        "colab": {
          "base_uri": "https://localhost:8080/",
          "height": 235
        },
        "id": "HndFsmcdG09t",
        "outputId": "e543cb68-e952-47b4-a1d5-1a45ad59ccf4"
      },
      "source": [
        "# code here (0.25 pt.)\n",
        "df.index = df['date']\n",
        "df.head()"
      ],
      "execution_count": 16,
      "outputs": [
        {
          "output_type": "execute_result",
          "data": {
            "text/html": [
              "<div>\n",
              "<style scoped>\n",
              "    .dataframe tbody tr th:only-of-type {\n",
              "        vertical-align: middle;\n",
              "    }\n",
              "\n",
              "    .dataframe tbody tr th {\n",
              "        vertical-align: top;\n",
              "    }\n",
              "\n",
              "    .dataframe thead th {\n",
              "        text-align: right;\n",
              "    }\n",
              "</style>\n",
              "<table border=\"1\" class=\"dataframe\">\n",
              "  <thead>\n",
              "    <tr style=\"text-align: right;\">\n",
              "      <th></th>\n",
              "      <th>sales</th>\n",
              "      <th>month</th>\n",
              "      <th>day</th>\n",
              "      <th>year</th>\n",
              "      <th>date</th>\n",
              "    </tr>\n",
              "    <tr>\n",
              "      <th>date</th>\n",
              "      <th></th>\n",
              "      <th></th>\n",
              "      <th></th>\n",
              "      <th></th>\n",
              "      <th></th>\n",
              "    </tr>\n",
              "  </thead>\n",
              "  <tbody>\n",
              "    <tr>\n",
              "      <th>2020-10-31</th>\n",
              "      <td>134.71</td>\n",
              "      <td>10</td>\n",
              "      <td>31</td>\n",
              "      <td>2020</td>\n",
              "      <td>2020-10-31</td>\n",
              "    </tr>\n",
              "    <tr>\n",
              "      <th>2020-07-31</th>\n",
              "      <td>137.74</td>\n",
              "      <td>7</td>\n",
              "      <td>31</td>\n",
              "      <td>2020</td>\n",
              "      <td>2020-07-31</td>\n",
              "    </tr>\n",
              "    <tr>\n",
              "      <th>2020-04-30</th>\n",
              "      <td>134.62</td>\n",
              "      <td>4</td>\n",
              "      <td>30</td>\n",
              "      <td>2020</td>\n",
              "      <td>2020-04-30</td>\n",
              "    </tr>\n",
              "    <tr>\n",
              "      <th>2020-01-31</th>\n",
              "      <td>141.67</td>\n",
              "      <td>1</td>\n",
              "      <td>31</td>\n",
              "      <td>2020</td>\n",
              "      <td>2020-01-31</td>\n",
              "    </tr>\n",
              "    <tr>\n",
              "      <th>2019-10-31</th>\n",
              "      <td>127.99</td>\n",
              "      <td>10</td>\n",
              "      <td>31</td>\n",
              "      <td>2019</td>\n",
              "      <td>2019-10-31</td>\n",
              "    </tr>\n",
              "  </tbody>\n",
              "</table>\n",
              "</div>"
            ],
            "text/plain": [
              "             sales  month  day  year       date\n",
              "date                                           \n",
              "2020-10-31  134.71     10   31  2020 2020-10-31\n",
              "2020-07-31  137.74      7   31  2020 2020-07-31\n",
              "2020-04-30  134.62      4   30  2020 2020-04-30\n",
              "2020-01-31  141.67      1   31  2020 2020-01-31\n",
              "2019-10-31  127.99     10   31  2019 2019-10-31"
            ]
          },
          "metadata": {
            "tags": []
          },
          "execution_count": 16
        }
      ]
    },
    {
      "cell_type": "markdown",
      "metadata": {
        "id": "Gsor8R95G09t"
      },
      "source": [
        "What is the size of the dataset?\n",
        "\n",
        "use ```.shape```"
      ]
    },
    {
      "cell_type": "code",
      "metadata": {
        "colab": {
          "base_uri": "https://localhost:8080/"
        },
        "id": "EnMSAt_NG09t",
        "outputId": "37ba0588-5fb1-46c4-ec49-e900a7b6d2c9"
      },
      "source": [
        "# code here (0.25 pt.)\n",
        "df.shape"
      ],
      "execution_count": 18,
      "outputs": [
        {
          "output_type": "execute_result",
          "data": {
            "text/plain": [
              "(147, 5)"
            ]
          },
          "metadata": {
            "tags": []
          },
          "execution_count": 18
        }
      ]
    },
    {
      "cell_type": "markdown",
      "metadata": {
        "id": "oQeNzPeTG09t"
      },
      "source": [
        "Drop columns ['day', 'year','month','date']:\n",
        "\n",
        "```df=df.drop(..., axis=1)```"
      ]
    },
    {
      "cell_type": "code",
      "metadata": {
        "colab": {
          "base_uri": "https://localhost:8080/",
          "height": 235
        },
        "id": "e-iIv-QAG09t",
        "outputId": "851131dd-462a-4d5b-8f1c-d475afae4ed5"
      },
      "source": [
        "# code here (0.25 pt.)\n",
        "df=df.drop(['day', 'year','month','date'], axis=1)\n",
        "df.head()"
      ],
      "execution_count": 19,
      "outputs": [
        {
          "output_type": "execute_result",
          "data": {
            "text/html": [
              "<div>\n",
              "<style scoped>\n",
              "    .dataframe tbody tr th:only-of-type {\n",
              "        vertical-align: middle;\n",
              "    }\n",
              "\n",
              "    .dataframe tbody tr th {\n",
              "        vertical-align: top;\n",
              "    }\n",
              "\n",
              "    .dataframe thead th {\n",
              "        text-align: right;\n",
              "    }\n",
              "</style>\n",
              "<table border=\"1\" class=\"dataframe\">\n",
              "  <thead>\n",
              "    <tr style=\"text-align: right;\">\n",
              "      <th></th>\n",
              "      <th>sales</th>\n",
              "    </tr>\n",
              "    <tr>\n",
              "      <th>date</th>\n",
              "      <th></th>\n",
              "    </tr>\n",
              "  </thead>\n",
              "  <tbody>\n",
              "    <tr>\n",
              "      <th>2020-10-31</th>\n",
              "      <td>134.71</td>\n",
              "    </tr>\n",
              "    <tr>\n",
              "      <th>2020-07-31</th>\n",
              "      <td>137.74</td>\n",
              "    </tr>\n",
              "    <tr>\n",
              "      <th>2020-04-30</th>\n",
              "      <td>134.62</td>\n",
              "    </tr>\n",
              "    <tr>\n",
              "      <th>2020-01-31</th>\n",
              "      <td>141.67</td>\n",
              "    </tr>\n",
              "    <tr>\n",
              "      <th>2019-10-31</th>\n",
              "      <td>127.99</td>\n",
              "    </tr>\n",
              "  </tbody>\n",
              "</table>\n",
              "</div>"
            ],
            "text/plain": [
              "             sales\n",
              "date              \n",
              "2020-10-31  134.71\n",
              "2020-07-31  137.74\n",
              "2020-04-30  134.62\n",
              "2020-01-31  141.67\n",
              "2019-10-31  127.99"
            ]
          },
          "metadata": {
            "tags": []
          },
          "execution_count": 19
        }
      ]
    },
    {
      "cell_type": "markdown",
      "metadata": {
        "id": "yxS6h9qDG09u"
      },
      "source": [
        "What is the size of the dataset now?"
      ]
    },
    {
      "cell_type": "code",
      "metadata": {
        "colab": {
          "base_uri": "https://localhost:8080/"
        },
        "id": "8sk1D9JtG09u",
        "outputId": "61296b90-14e8-4fd1-fb40-3edf9f2fe5bd"
      },
      "source": [
        "# code here (0.25 pt.)\n",
        "df.shape"
      ],
      "execution_count": 20,
      "outputs": [
        {
          "output_type": "execute_result",
          "data": {
            "text/plain": [
              "(147, 1)"
            ]
          },
          "metadata": {
            "tags": []
          },
          "execution_count": 20
        }
      ]
    },
    {
      "cell_type": "markdown",
      "metadata": {
        "id": "kSAKX0_mG09u"
      },
      "source": [
        "### 1.4 Plot data (0.75 pt.)\n",
        "[back to contents](#Contents)"
      ]
    },
    {
      "cell_type": "markdown",
      "metadata": {
        "id": "nTZFQjWUG09u"
      },
      "source": [
        "transform data frame column to series:\n",
        "\n",
        "```y=df['date']```"
      ]
    },
    {
      "cell_type": "code",
      "metadata": {
        "id": "GIF8W35tG09u"
      },
      "source": [
        "# code here (0.25 pt.)\n",
        "y=df['sales']"
      ],
      "execution_count": 21,
      "outputs": []
    },
    {
      "cell_type": "markdown",
      "metadata": {
        "id": "182b_JVJG09u"
      },
      "source": [
        "```plot_series``` gets a series as an argument, whose dates sorted in ascending order.\n",
        "Transform your time series by changing descending order to ascending order:\n",
        "\n",
        "apply ```np.flip``` to ```y``` and name the result ```y```"
      ]
    },
    {
      "cell_type": "code",
      "metadata": {
        "id": "I8NvJAKKG09v"
      },
      "source": [
        "# code here (0.25 pt.)\n",
        "y = np.flip(y)"
      ],
      "execution_count": 22,
      "outputs": []
    },
    {
      "cell_type": "markdown",
      "metadata": {
        "id": "YOG0VFJAG09v"
      },
      "source": [
        "Plot the series using ```plot_series()```"
      ]
    },
    {
      "cell_type": "code",
      "metadata": {
        "colab": {
          "base_uri": "https://localhost:8080/",
          "height": 301
        },
        "id": "GPlm4ZwBG09v",
        "outputId": "d3aaab10-19bd-45d9-9a61-9c9c636edeeb"
      },
      "source": [
        "# code here (0.25 pt.)\n",
        "plot_series(y)"
      ],
      "execution_count": 23,
      "outputs": [
        {
          "output_type": "execute_result",
          "data": {
            "text/plain": [
              "(<Figure size 1152x288 with 1 Axes>,\n",
              " <matplotlib.axes._subplots.AxesSubplot at 0x7f5bee668dd8>)"
            ]
          },
          "metadata": {
            "tags": []
          },
          "execution_count": 23
        },
        {
          "output_type": "display_data",
          "data": {
            "image/png": "[encoded data removed]",
            "text/plain": [
              "<Figure size 1152x288 with 1 Axes>"
            ]
          },
          "metadata": {
            "tags": [],
            "needs_background": "light"
          }
        }
      ]
    },
    {
      "cell_type": "markdown",
      "metadata": {
        "id": "Oib0JjpMG09v"
      },
      "source": [
        "### 1.5 Split data (0.75 pt.)\n",
        "[back to contents](#Contents)"
      ]
    },
    {
      "cell_type": "markdown",
      "metadata": {
        "id": "sDSP3iCEG09v"
      },
      "source": [
        "Split the data into train and test samples:\n",
        "\n",
        "``` temporal_train_test_split(...) ```\n",
        "\n",
        "choose ``` test_size=0.2 ```"
      ]
    },
    {
      "cell_type": "code",
      "metadata": {
        "id": "Qsjbj6g0G09v"
      },
      "source": [
        "# code here (0.5 pt.)\n",
        "train, test = temporal_train_test_split(y, test_size=0.2)"
      ],
      "execution_count": 24,
      "outputs": []
    },
    {
      "cell_type": "markdown",
      "metadata": {
        "id": "JJYlfi_JG09w"
      },
      "source": [
        "plot train and test samples using ``` plot_series ```"
      ]
    },
    {
      "cell_type": "code",
      "metadata": {
        "colab": {
          "base_uri": "https://localhost:8080/",
          "height": 301
        },
        "id": "kDHBGIfUG09w",
        "outputId": "8978815e-4390-45a9-e0c0-e4d22d444c9c"
      },
      "source": [
        "# code here (0.25 pt.)\n",
        "plot_series(train, test)"
      ],
      "execution_count": 25,
      "outputs": [
        {
          "output_type": "execute_result",
          "data": {
            "text/plain": [
              "(<Figure size 1152x288 with 1 Axes>,\n",
              " <matplotlib.axes._subplots.AxesSubplot at 0x7f5bee0fd630>)"
            ]
          },
          "metadata": {
            "tags": []
          },
          "execution_count": 25
        },
        {
          "output_type": "display_data",
          "data": {
            "image/png": "[encoded data removed]",
            "text/plain": [
              "<Figure size 1152x288 with 1 Axes>"
            ]
          },
          "metadata": {
            "tags": [],
            "needs_background": "light"
          }
        }
      ]
    },
    {
      "cell_type": "markdown",
      "metadata": {
        "id": "HW9OSiyFG09w"
      },
      "source": [
        "## 2. ETS (7 pt.)"
      ]
    },
    {
      "cell_type": "markdown",
      "metadata": {
        "id": "DfBFS-cOG09w"
      },
      "source": [
        "### 2.1 Estimate ETS (MAA) and (AAM) (1 pt.)\n",
        "[back to contents](#Contents)"
      ]
    },
    {
      "cell_type": "markdown",
      "metadata": {
        "id": "Xd8ad4UsG09w"
      },
      "source": [
        "Start with ETS (MAA). Estimate the model and name it ```model_MAA```:\n",
        "\n",
        "```ETSModel(..., error='...', trend='...', seasonal='...', seasonal_periods=...)```\n",
        "\n",
        "```fit_MAA=model_MAA.fit()```\n"
      ]
    },
    {
      "cell_type": "code",
      "metadata": {
        "colab": {
          "base_uri": "https://localhost:8080/"
        },
        "id": "jfeXt_n2G09w",
        "outputId": "629f8c69-8c16-4ed0-90cb-55b0039c4ca3"
      },
      "source": [
        "# code here (0.5 pt.)\n",
        "model_MAA = ETSModel(train, error='mul', trend='add', seasonal='add', seasonal_periods=4)\n",
        "fit_MAA=model_MAA.fit()"
      ],
      "execution_count": 26,
      "outputs": [
        {
          "output_type": "stream",
          "text": [
            "/usr/local/lib/python3.6/dist-packages/statsmodels/tsa/base/tsa_model.py:527: ValueWarning: No frequency information was provided, so inferred frequency Q-OCT will be used.\n",
            "  % freq, ValueWarning)\n"
          ],
          "name": "stderr"
        }
      ]
    },
    {
      "cell_type": "markdown",
      "metadata": {
        "id": "4UkoXIYmG09y"
      },
      "source": [
        "Estimate ETS (AAM) with the same characteristics:\n",
        "    \n",
        "```ETSModel(..., error='...', trend='...', seasonal='...', seasonal_periods=...)```\n",
        "\n",
        "```fit_AAM=model_AAM.fit()```\n"
      ]
    },
    {
      "cell_type": "code",
      "metadata": {
        "colab": {
          "base_uri": "https://localhost:8080/"
        },
        "id": "cWPT4VWeG09y",
        "outputId": "b1c1d4ef-7d69-4372-e8e1-fd4449621835"
      },
      "source": [
        "# code here (0.5 pt.)\n",
        "model_AAM = ETSModel(train, error='add', trend='add', seasonal='mul', seasonal_periods=4)\n",
        "fit_AAM=model_AAM.fit()"
      ],
      "execution_count": 27,
      "outputs": [
        {
          "output_type": "stream",
          "text": [
            "/usr/local/lib/python3.6/dist-packages/statsmodels/tsa/base/tsa_model.py:527: ValueWarning: No frequency information was provided, so inferred frequency Q-OCT will be used.\n",
            "  % freq, ValueWarning)\n"
          ],
          "name": "stderr"
        }
      ]
    },
    {
      "cell_type": "markdown",
      "metadata": {
        "id": "nkOylY5QG09y"
      },
      "source": [
        "### 2.2 Point forecasts (1 pt.)\n",
        "[back to contents](#Contents)"
      ]
    },
    {
      "cell_type": "markdown",
      "metadata": {
        "id": "Qr1fZKBsG09y"
      },
      "source": [
        "Obtain point forecasts for ETS(MAA) with forecasting horizon=30 quarters:\n",
        "\n",
        "```fit_MAA.forecast(steps=...)```"
      ]
    },
    {
      "cell_type": "code",
      "metadata": {
        "id": "SNV8Jm4aG09z"
      },
      "source": [
        "# code here (0.25 pt.)\n",
        "fit_MAA_forecast = fit_MAA.forecast(steps=30)"
      ],
      "execution_count": 28,
      "outputs": []
    },
    {
      "cell_type": "markdown",
      "metadata": {
        "id": "kr2uPtzJG09z"
      },
      "source": [
        "Obtain point forecasts for ETS(AAM) with forecasting horizon=30 quarters:\n",
        "\n",
        "```fit_AAM.forecast(steps=...)```"
      ]
    },
    {
      "cell_type": "code",
      "metadata": {
        "id": "aliq9kRaG09z"
      },
      "source": [
        "# code here (0.25 pt.)\n",
        "fit_AAM_forecast = fit_AAM.forecast(steps=30)"
      ],
      "execution_count": 29,
      "outputs": []
    },
    {
      "cell_type": "markdown",
      "metadata": {
        "id": "US1l3M7fG09z"
      },
      "source": [
        "Plot both forecasts (AAM) and (MAA), test and train data\n",
        "\n",
        "```plot_series()```"
      ]
    },
    {
      "cell_type": "code",
      "metadata": {
        "colab": {
          "base_uri": "https://localhost:8080/",
          "height": 301
        },
        "id": "wYMcLWmqG09z",
        "outputId": "a5bb77d7-6162-45f1-edeb-e963a72eb3fc"
      },
      "source": [
        "# code here (0.5 pt.)\n",
        "plot_series(train, test, fit_MAA_forecast, fit_AAM_forecast, labels=['train','test','fit_MAA_forecast','fit_AAM_forecast'])"
      ],
      "execution_count": 30,
      "outputs": [
        {
          "output_type": "execute_result",
          "data": {
            "text/plain": [
              "(<Figure size 1152x288 with 1 Axes>,\n",
              " <matplotlib.axes._subplots.AxesSubplot at 0x7f5bedbb6c18>)"
            ]
          },
          "metadata": {
            "tags": []
          },
          "execution_count": 30
        },
        {
          "output_type": "display_data",
          "data": {
            "image/png": "[encoded data removed]",
            "text/plain": [
              "<Figure size 1152x288 with 1 Axes>"
            ]
          },
          "metadata": {
            "tags": [],
            "needs_background": "light"
          }
        }
      ]
    },
    {
      "cell_type": "markdown",
      "metadata": {
        "id": "8R9RgQX4G09z"
      },
      "source": [
        "### 2.3 Interval forecasts ETS(MAA) (1 pt.)\n",
        "[back to contents](#Contents)"
      ]
    },
    {
      "cell_type": "markdown",
      "metadata": {
        "id": "QUTAFsu7G090"
      },
      "source": [
        "Get 95% confidence intervals:\n",
        "\n",
        "```pred_MAA=fit_MAA.get_prediction(start='2013-07-31', end='2020-10-31') ```\n",
        "\n",
        "``` pred_MAA=pred_MAA.summary_frame(alpha=0.05) ```\n",
        "\n",
        "Expract upper and lower bounds from ```pred_MAA``` and name them ```upper_int``` and ```lower_int```\n"
      ]
    },
    {
      "cell_type": "code",
      "metadata": {
        "id": "avLTY_7iG090"
      },
      "source": [
        "# code here (0.5 pt.)\n",
        "pred_MAA=fit_MAA.get_prediction(start='2013-07-31', end='2020-10-31')\n",
        "pred_MAA=pred_MAA.summary_frame(alpha=0.05)\n",
        "upper_int = pred_MAA['pi_upper']\n",
        "lower_int = pred_MAA['pi_lower']"
      ],
      "execution_count": 31,
      "outputs": []
    },
    {
      "cell_type": "markdown",
      "metadata": {
        "id": "Iw-F2SDzG090"
      },
      "source": [
        "Plot interval predictions:\n",
        "\n",
        "```plot_series()```"
      ]
    },
    {
      "cell_type": "code",
      "metadata": {
        "scrolled": true,
        "colab": {
          "base_uri": "https://localhost:8080/",
          "height": 301
        },
        "id": "3qjeTZ2vG090",
        "outputId": "69a0bbe6-9a20-4c32-b734-827830f1db2b"
      },
      "source": [
        "# code here (0.5 pt.)\n",
        "plot_series(train, test, lower_int,upper_int, labels=['train','test','lower_int','upper_int']   )"
      ],
      "execution_count": 32,
      "outputs": [
        {
          "output_type": "execute_result",
          "data": {
            "text/plain": [
              "(<Figure size 1152x288 with 1 Axes>,\n",
              " <matplotlib.axes._subplots.AxesSubplot at 0x7f5bedb232e8>)"
            ]
          },
          "metadata": {
            "tags": []
          },
          "execution_count": 32
        },
        {
          "output_type": "display_data",
          "data": {
            "image/png": "[encoded data removed]",
            "text/plain": [
              "<Figure size 1152x288 with 1 Axes>"
            ]
          },
          "metadata": {
            "tags": [],
            "needs_background": "light"
          }
        }
      ]
    },
    {
      "cell_type": "markdown",
      "metadata": {
        "id": "0bcE0lcJG090"
      },
      "source": [
        "### 2.4 Interval forecasts ETS(AAM) (1 pt.)\n",
        "[back to contents](#Contents)"
      ]
    },
    {
      "cell_type": "markdown",
      "metadata": {
        "id": "Kt0OnAywG090"
      },
      "source": [
        "Get 95% confidence intervals:\n",
        "\n",
        "``` pred_AAM=fit_AAM.get_prediction(start='2013-07-31', end='2020-10-31') ```\n",
        "\n",
        "``` pred_AAM=pred_AAM.summary_frame(alpha=0.05) ```\n",
        "\n",
        "Expract upper and lower bounds from ```pred_MAA``` and name them ```upper_int``` and ```lower_int```"
      ]
    },
    {
      "cell_type": "code",
      "metadata": {
        "id": "CAWr1RElG091"
      },
      "source": [
        "# code here (0.5 pt.)\n",
        "pred_AAM=fit_AAM.get_prediction(start='2013-07-31', end='2020-10-31')\n",
        "pred_AAM=pred_AAM.summary_frame(alpha=0.05)\n",
        "upper_int = pred_AAM['pi_upper']\n",
        "lower_int = pred_AAM['pi_lower']"
      ],
      "execution_count": 33,
      "outputs": []
    },
    {
      "cell_type": "markdown",
      "metadata": {
        "id": "0Wmf4sd8G091"
      },
      "source": [
        "Plot interval predictions:\n",
        "\n",
        "```plot_series()```"
      ]
    },
    {
      "cell_type": "code",
      "metadata": {
        "scrolled": true,
        "colab": {
          "base_uri": "https://localhost:8080/",
          "height": 305
        },
        "id": "xiO8A8P6G091",
        "outputId": "04fa4a8f-54f1-48c8-9e1f-2739139bacb4"
      },
      "source": [
        "# code here (0.5 pt.)\n",
        "plot_series(train, test, lower_int,upper_int, labels=['train','test','lower_int','upper_int']   )"
      ],
      "execution_count": 34,
      "outputs": [
        {
          "output_type": "execute_result",
          "data": {
            "text/plain": [
              "(<Figure size 1152x288 with 1 Axes>,\n",
              " <matplotlib.axes._subplots.AxesSubplot at 0x7f5beda47a90>)"
            ]
          },
          "metadata": {
            "tags": []
          },
          "execution_count": 34
        },
        {
          "output_type": "display_data",
          "data": {
            "image/png": "[encoded data removed]",
            "text/plain": [
              "<Figure size 1152x288 with 1 Axes>"
            ]
          },
          "metadata": {
            "tags": [],
            "needs_background": "light"
          }
        }
      ]
    },
    {
      "cell_type": "markdown",
      "metadata": {
        "id": "_qULb-pYG091"
      },
      "source": [
        "### 2.5 Forecast quality metrics (2 pt.)\n",
        "[back to contents](#Contents)"
      ]
    },
    {
      "cell_type": "markdown",
      "metadata": {
        "id": "e9mykYTVG091"
      },
      "source": [
        "Calculate the following metrics for both ETS(MAA) and ETS(AAM) predictions:"
      ]
    },
    {
      "cell_type": "markdown",
      "metadata": {
        "id": "vRor8B4tG091"
      },
      "source": [
        "$MAE = \\frac{\\sum\\limits_{i=1}^n |y_i-\\hat{y}_i|}{n}$\n",
        "\n",
        "```python\n",
        "sklearn.metrics.mean_absolute_error\n",
        "```"
      ]
    },
    {
      "cell_type": "code",
      "metadata": {
        "colab": {
          "base_uri": "https://localhost:8080/"
        },
        "id": "uJ_4-qpQG092",
        "outputId": "037c2021-b9f0-44e6-b6be-019c27c8fe10"
      },
      "source": [
        "# code here (0.5 pt.) MAA\n",
        "mean_absolute_error(test, fit_MAA_forecast)"
      ],
      "execution_count": 35,
      "outputs": [
        {
          "output_type": "execute_result",
          "data": {
            "text/plain": [
              "6.394546605755498"
            ]
          },
          "metadata": {
            "tags": []
          },
          "execution_count": 35
        }
      ]
    },
    {
      "cell_type": "code",
      "metadata": {
        "colab": {
          "base_uri": "https://localhost:8080/"
        },
        "id": "2RTAzvHxG093",
        "outputId": "f8708883-e2bb-4202-c9db-94909f6990fc"
      },
      "source": [
        "# code here (0.5 pt.) AAM\n",
        "mean_absolute_error(test, fit_AAM_forecast)"
      ],
      "execution_count": 36,
      "outputs": [
        {
          "output_type": "execute_result",
          "data": {
            "text/plain": [
              "12.709161383337841"
            ]
          },
          "metadata": {
            "tags": []
          },
          "execution_count": 36
        }
      ]
    },
    {
      "cell_type": "markdown",
      "metadata": {
        "id": "V8SJvVJdG093"
      },
      "source": [
        "$MSE = \\frac{\\sum\\limits_{i=1}^n (y_i-\\hat{y}_i)^2}{n}$\n",
        "\n",
        "```python\n",
        "sklearn.metrics.mean_squared_error\n",
        "```"
      ]
    },
    {
      "cell_type": "code",
      "metadata": {
        "colab": {
          "base_uri": "https://localhost:8080/"
        },
        "id": "htn7neJrG093",
        "outputId": "a59cd01e-9573-4820-ee16-81a2a87b329c"
      },
      "source": [
        "# code here (0.5 pt.) MAA\n",
        "mean_squared_error(test, fit_MAA_forecast)"
      ],
      "execution_count": 37,
      "outputs": [
        {
          "output_type": "execute_result",
          "data": {
            "text/plain": [
              "50.57147037477893"
            ]
          },
          "metadata": {
            "tags": []
          },
          "execution_count": 37
        }
      ]
    },
    {
      "cell_type": "code",
      "metadata": {
        "colab": {
          "base_uri": "https://localhost:8080/"
        },
        "id": "RYIm0EmYG093",
        "outputId": "bed707c8-3da4-4474-9ccf-92b15f9c67af"
      },
      "source": [
        "# code here (0.5 pt.) AAM\n",
        "mean_squared_error(test, fit_AAM_forecast)"
      ],
      "execution_count": 38,
      "outputs": [
        {
          "output_type": "execute_result",
          "data": {
            "text/plain": [
              "195.9700976122845"
            ]
          },
          "metadata": {
            "tags": []
          },
          "execution_count": 38
        }
      ]
    },
    {
      "cell_type": "markdown",
      "metadata": {
        "id": "XE7NFP7BG093"
      },
      "source": [
        "$MAPE = \\frac{100}{n}\\frac{\\sum\\limits_{i=1}^n |y_i-\\hat{y}_i|}{y_i}$ \n",
        "\n",
        "```python\n",
        "def mean_absolute_percentage_error(y_true, y_pred): \n",
        "    return np.mean(np.abs((y_true - y_pred) / y_true)) * 100\n",
        "```"
      ]
    },
    {
      "cell_type": "markdown",
      "metadata": {
        "id": "UBnJDkwmG093"
      },
      "source": [
        "Create a new function to calculate MAPE"
      ]
    },
    {
      "cell_type": "code",
      "metadata": {
        "id": "KPFgSMluG094"
      },
      "source": [
        "# code here (0.5 pt.)\n",
        "def mean_absolute_percentage_error(y_true, y_pred): \n",
        "    return np.mean(np.abs((y_true - y_pred) / y_true)) * 100"
      ],
      "execution_count": 39,
      "outputs": []
    },
    {
      "cell_type": "markdown",
      "metadata": {
        "id": "vOuHy5pPG094"
      },
      "source": [
        "Calculate MAPE:"
      ]
    },
    {
      "cell_type": "code",
      "metadata": {
        "colab": {
          "base_uri": "https://localhost:8080/"
        },
        "id": "n0c5s-29G094",
        "outputId": "f12a634e-e873-4bd1-a952-2edb472e2379"
      },
      "source": [
        "# code here (0.25 pt.) MAA\n",
        "mean_absolute_percentage_error(test, fit_MAA_forecast)"
      ],
      "execution_count": 40,
      "outputs": [
        {
          "output_type": "execute_result",
          "data": {
            "text/plain": [
              "5.091701024681435"
            ]
          },
          "metadata": {
            "tags": []
          },
          "execution_count": 40
        }
      ]
    },
    {
      "cell_type": "code",
      "metadata": {
        "colab": {
          "base_uri": "https://localhost:8080/"
        },
        "id": "ra-qjO98G094",
        "outputId": "bd2ff2aa-e6f6-49b1-f550-9e77b2e4b826"
      },
      "source": [
        "# code here (0.25 pt.) AAM\n",
        "mean_absolute_percentage_error(test, fit_AAM_forecast)"
      ],
      "execution_count": 41,
      "outputs": [
        {
          "output_type": "execute_result",
          "data": {
            "text/plain": [
              "9.993524328604307"
            ]
          },
          "metadata": {
            "tags": []
          },
          "execution_count": 41
        }
      ]
    },
    {
      "cell_type": "markdown",
      "metadata": {
        "id": "O8Y9-1XQG094"
      },
      "source": [
        "### 2.6 What is the best model according to the metrics above? (1 pt.)"
      ]
    },
    {
      "cell_type": "code",
      "metadata": {
        "colab": {
          "base_uri": "https://localhost:8080/",
          "height": 36
        },
        "id": "4uCpz0rnG094",
        "outputId": "bd08ce08-be02-46c1-ce13-27e2f8a8461f"
      },
      "source": [
        "# code here (1 pt.)\n",
        "'''MAA is the best '''"
      ],
      "execution_count": 42,
      "outputs": [
        {
          "output_type": "execute_result",
          "data": {
            "application/vnd.google.colaboratory.intrinsic+json": {
              "type": "string"
            },
            "text/plain": [
              "'MAA is the best '"
            ]
          },
          "metadata": {
            "tags": []
          },
          "execution_count": 42
        }
      ]
    }
  ]
}